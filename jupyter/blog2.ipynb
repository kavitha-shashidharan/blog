{
 "cells": [
  {
   "cell_type": "markdown",
   "metadata": {},
   "source": [
    "Title : My second Blog Date : 2019-09-12 11:30 Slug : blog2"
   ]
  },
  {
   "cell_type": "markdown",
   "metadata": {},
   "source": [
    "This is my seond blog post"
   ]
  },
  {
   "cell_type": "code",
   "execution_count": 4,
   "metadata": {},
   "outputs": [
    {
     "data": {
      "text/html": [
       "<div>\n",
       "<style scoped>\n",
       "    .dataframe tbody tr th:only-of-type {\n",
       "        vertical-align: middle;\n",
       "    }\n",
       "\n",
       "    .dataframe tbody tr th {\n",
       "        vertical-align: top;\n",
       "    }\n",
       "\n",
       "    .dataframe thead th {\n",
       "        text-align: right;\n",
       "    }\n",
       "</style>\n",
       "<table border=\"1\" class=\"dataframe\">\n",
       "  <thead>\n",
       "    <tr style=\"text-align: right;\">\n",
       "      <th></th>\n",
       "      <th>Name</th>\n",
       "      <th>Blog_link</th>\n",
       "    </tr>\n",
       "  </thead>\n",
       "  <tbody>\n",
       "    <tr>\n",
       "      <th>0</th>\n",
       "      <td>Ryan</td>\n",
       "      <td>https://duryan00.github.io/blog/</td>\n",
       "    </tr>\n",
       "    <tr>\n",
       "      <th>1</th>\n",
       "      <td>Hock</td>\n",
       "      <td>https://teckhockng.github.io/blog/</td>\n",
       "    </tr>\n",
       "    <tr>\n",
       "      <th>2</th>\n",
       "      <td>Benoit</td>\n",
       "      <td>https://bolive84.github.io/Blog/</td>\n",
       "    </tr>\n",
       "    <tr>\n",
       "      <th>3</th>\n",
       "      <td>Anika</td>\n",
       "      <td>https://nawarani.github.io/blog/</td>\n",
       "    </tr>\n",
       "    <tr>\n",
       "      <th>4</th>\n",
       "      <td>Kavitha</td>\n",
       "      <td>https://kavitha-shashidharan.github.io/blog/</td>\n",
       "    </tr>\n",
       "  </tbody>\n",
       "</table>\n",
       "</div>"
      ],
      "text/plain": [
       "      Name                                     Blog_link\n",
       "0     Ryan              https://duryan00.github.io/blog/\n",
       "1     Hock            https://teckhockng.github.io/blog/\n",
       "2   Benoit              https://bolive84.github.io/Blog/\n",
       "3    Anika              https://nawarani.github.io/blog/\n",
       "4  Kavitha  https://kavitha-shashidharan.github.io/blog/"
      ]
     },
     "execution_count": 4,
     "metadata": {},
     "output_type": "execute_result"
    }
   ],
   "source": [
    "import pandas as pd\n",
    "from IPython.core.display import HTML\n",
    "import chart\n",
    "df = pd.DataFrame([['Ryan', 'https://duryan00.github.io/blog/'],\n",
    "                 ['Hock' , 'https://teckhockng.github.io/blog/'],\n",
    "                   ['Benoit', 'https://bolive84.github.io/Blog/'],\n",
    "                 ['Anika','https://nawarani.github.io/blog/'],\n",
    "                  ['Kavitha','https://kavitha-shashidharan.github.io/blog/']], columns = ['Name', 'Blog_link'])\n",
    "df"
   ]
  },
  {
   "cell_type": "markdown",
   "metadata": {},
   "source": [
    "<img src = https://cdn1.vectorstock.com/i/1000x1000/71/45/cartoon-yeti-presenting-isolated-vector-6527145.jpg>"
   ]
  },
  {
   "cell_type": "code",
   "execution_count": null,
   "metadata": {},
   "outputs": [],
   "source": []
  },
  {
   "cell_type": "code",
   "execution_count": null,
   "metadata": {},
   "outputs": [],
   "source": []
  }
 ],
 "metadata": {
  "kernelspec": {
   "display_name": "Python 3",
   "language": "python",
   "name": "python3"
  },
  "language_info": {
   "codemirror_mode": {
    "name": "ipython",
    "version": 3
   },
   "file_extension": ".py",
   "mimetype": "text/x-python",
   "name": "python",
   "nbconvert_exporter": "python",
   "pygments_lexer": "ipython3",
   "version": "3.7.3"
  }
 },
 "nbformat": 4,
 "nbformat_minor": 2
}
